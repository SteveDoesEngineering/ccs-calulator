{
 "cells": [
  {
   "cell_type": "code",
   "execution_count": 1,
   "id": "38713ff8",
   "metadata": {},
   "outputs": [],
   "source": [
    "#!pip install ipywidgets matplotlib"
   ]
  },
  {
   "cell_type": "code",
   "execution_count": 1,
   "id": "145c40fe",
   "metadata": {},
   "outputs": [
    {
     "name": "stderr",
     "output_type": "stream",
     "text": [
      "Enabling notebook extension jupyter-js-widgets/extension...\n",
      "      - Validating: ok\n"
     ]
    }
   ],
   "source": [
    "#!jupyter nbextension enable --py widgetsnbextension"
   ]
  },
  {
   "cell_type": "code",
   "execution_count": 13,
   "id": "dd99bc87",
   "metadata": {},
   "outputs": [],
   "source": [
    "import numpy as np\n",
    "import matplotlib.pyplot as plt\n",
    "from ipywidgets import interact, FloatSlider\n",
    "from ipywidgets import Button, VBox, Output"
   ]
  },
  {
   "cell_type": "code",
   "execution_count": 14,
   "id": "f5a091d9",
   "metadata": {},
   "outputs": [],
   "source": [
    "def calculate_mortgage(loan_amount, annual_interest_rate, loan_term):\n",
    "    monthly_interest_rate = annual_interest_rate / 12 / 100\n",
    "    num_payments = int(loan_term) * 12\n",
    "\n",
    "    # Calculate the monthly mortgage payment using the formula\n",
    "    monthly_payment = loan_amount * monthly_interest_rate * np.power(1 + monthly_interest_rate, num_payments) / (np.power(1 + monthly_interest_rate, num_payments) - 1)\n",
    "\n",
    "    return monthly_payment"
   ]
  },
  {
   "cell_type": "code",
   "execution_count": 15,
   "id": "10f97c81",
   "metadata": {},
   "outputs": [],
   "source": [
    "def plot_interest_payments(loan_amount, annual_interest_rate, loan_term):\n",
    "    num_payments = int(loan_term) * 12\n",
    "    monthly_payment = calculate_mortgage(loan_amount, annual_interest_rate, loan_term)\n",
    "    \n",
    "    interest_payments = []\n",
    "    principal_remaining = loan_amount\n",
    "\n",
    "    for i in range(num_payments):\n",
    "        interest_payment = principal_remaining * (annual_interest_rate / 12 / 100)\n",
    "        principal_payment = monthly_payment - interest_payment\n",
    "        principal_remaining -= principal_payment\n",
    "        interest_payments.append(interest_payment)\n",
    "    \n",
    "    plt.plot(interest_payments)\n",
    "    plt.xlabel('Month')\n",
    "    plt.ylabel('Interest Payment ($)')\n",
    "    plt.title('Interest Payments Over Loan Term')\n",
    "    plt.show()\n"
   ]
  },
  {
   "cell_type": "code",
   "execution_count": 16,
   "id": "cbd3b743",
   "metadata": {},
   "outputs": [],
   "source": [
    "def interactive_mortgage_calculator(loan_amount, annual_interest_rate, loan_term):\n",
    "    plot_interest_payments(loan_amount, annual_interest_rate, loan_term)"
   ]
  },
  {
   "cell_type": "code",
   "execution_count": 17,
   "id": "4fa1d45d",
   "metadata": {},
   "outputs": [
    {
     "data": {
      "application/vnd.jupyter.widget-view+json": {
       "model_id": "8018159130444fd79bb27e96c1232488",
       "version_major": 2,
       "version_minor": 0
      },
      "text/plain": [
       "interactive(children=(FloatSlider(value=500000.0, description='Loan Amount ($AUD):', max=1000000.0, min=100000…"
      ]
     },
     "metadata": {},
     "output_type": "display_data"
    }
   ],
   "source": [
    "loan_amount_slider = FloatSlider(min=100000, max=1000000, step=1000, value=500000, description='Loan Amount ($AUD):')\n",
    "annual_interest_rate_slider = FloatSlider(min=1, max=10, step=0.1, value=5.79, description='Interest Rate (%):')\n",
    "loan_term_slider = FloatSlider(min=1, max=30, step=1, value=30, description='Loan Term (Years):')\n",
    "\n",
    "interact(interactive_mortgage_calculator, loan_amount=loan_amount_slider, annual_interest_rate=annual_interest_rate_slider, loan_term=loan_term_slider);\n"
   ]
  },
  {
   "cell_type": "code",
   "execution_count": null,
   "id": "241e8c82",
   "metadata": {},
   "outputs": [],
   "source": []
  },
  {
   "cell_type": "code",
   "execution_count": null,
   "id": "304b65a6",
   "metadata": {},
   "outputs": [],
   "source": []
  }
 ],
 "metadata": {
  "kernelspec": {
   "display_name": "Python 3",
   "language": "python",
   "name": "python3"
  },
  "language_info": {
   "codemirror_mode": {
    "name": "ipython",
    "version": 3
   },
   "file_extension": ".py",
   "mimetype": "text/x-python",
   "name": "python",
   "nbconvert_exporter": "python",
   "pygments_lexer": "ipython3",
   "version": "3.7.6"
  }
 },
 "nbformat": 4,
 "nbformat_minor": 5
}
